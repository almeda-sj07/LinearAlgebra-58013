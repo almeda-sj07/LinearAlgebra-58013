{
  "nbformat": 4,
  "nbformat_minor": 0,
  "metadata": {
    "colab": {
      "provenance": [],
      "authorship_tag": "ABX9TyNsE/bh+//nPJ0EdJKuaBsL",
      "include_colab_link": true
    },
    "kernelspec": {
      "name": "python3",
      "display_name": "Python 3"
    },
    "language_info": {
      "name": "python"
    }
  },
  "cells": [
    {
      "cell_type": "markdown",
      "metadata": {
        "id": "view-in-github",
        "colab_type": "text"
      },
      "source": [
        "<a href=\"https://colab.research.google.com/github/almeda-sj07/LinearAlgebra-58013/blob/main/Vectors%2CSpaces%2C%26Operations.ipynb\" target=\"_parent\"><img src=\"https://colab.research.google.com/assets/colab-badge.svg\" alt=\"Open In Colab\"/></a>"
      ]
    },
    {
      "cell_type": "markdown",
      "source": [
        "Vectors"
      ],
      "metadata": {
        "id": "8bwWnqMKhBwb"
      }
    },
    {
      "cell_type": "code",
      "execution_count": null,
      "metadata": {
        "colab": {
          "base_uri": "https://localhost:8080/"
        },
        "id": "kPU_YZVsg7K9",
        "outputId": "2d55b4c1-aa65-485b-ec16-01a89176cc3f"
      },
      "outputs": [
        {
          "output_type": "stream",
          "name": "stdout",
          "text": [
            "Vector A is  [4 3]\n",
            "Vector B is  [ 2 -5]\n"
          ]
        }
      ],
      "source": [
        "import numpy as np\n",
        "\n",
        "A = np.array([4,3])\n",
        "B = np.array([2,-5])\n",
        "\n",
        "print('Vector A is ', A)\n",
        "print('Vector B is ', B)"
      ]
    },
    {
      "cell_type": "markdown",
      "source": [
        "Shape of the Matrices"
      ],
      "metadata": {
        "id": "x4l3ry1RjAm4"
      }
    },
    {
      "cell_type": "code",
      "source": [
        "ball1 = np.array([1,2,3])\n",
        "ball2 = np.array([0,1,-1])\n",
        "ball = np.array([ball1,ball2])\n",
        "\n",
        "print(ball1)\n",
        "print(ball2,'\\n')\n",
        "print('arrays:\\n',ball,'\\n')"
      ],
      "metadata": {
        "colab": {
          "base_uri": "https://localhost:8080/"
        },
        "id": "dy3rVKlBhqmZ",
        "outputId": "9d01e7b0-3ecc-478c-da76-655f96c92558"
      },
      "execution_count": null,
      "outputs": [
        {
          "output_type": "stream",
          "name": "stdout",
          "text": [
            "[1 2 3]\n",
            "[ 0  1 -1] \n",
            "\n",
            "arrays:\n",
            " [[ 1  2  3]\n",
            " [ 0  1 -1]] \n",
            "\n"
          ]
        }
      ]
    },
    {
      "cell_type": "code",
      "source": [
        "sball1 = np.shape(ball1)    #Shape\n",
        "sball2 = np.shape(ball2)\n",
        "sball = sball1 + sball2\n",
        "\n",
        "print(sball)"
      ],
      "metadata": {
        "colab": {
          "base_uri": "https://localhost:8080/"
        },
        "id": "Vy37ZqHKyG_G",
        "outputId": "41284362-135d-4ad9-baa4-80d04b4506c3"
      },
      "execution_count": null,
      "outputs": [
        {
          "output_type": "stream",
          "name": "stdout",
          "text": [
            "(3, 3)\n"
          ]
        }
      ]
    },
    {
      "cell_type": "code",
      "source": [
        "dball1 = np.ndim(ball1)    #Dimension\n",
        "dball2 = np.ndim(ball2)\n",
        "dball = (dball1,dball2)\n",
        "\n",
        "print(dball)"
      ],
      "metadata": {
        "colab": {
          "base_uri": "https://localhost:8080/"
        },
        "id": "THxY3rBmx8yW",
        "outputId": "be26ca32-6ab3-46c9-9fa1-89eba984a5e8"
      },
      "execution_count": null,
      "outputs": [
        {
          "output_type": "stream",
          "name": "stdout",
          "text": [
            "(1, 1)\n"
          ]
        }
      ]
    },
    {
      "cell_type": "markdown",
      "source": [
        "Vector Operations"
      ],
      "metadata": {
        "id": "NBqvKgASsH5F"
      }
    },
    {
      "cell_type": "code",
      "source": [
        "a = np.array([4,3])\n",
        "b = np.array([2,-5])\n",
        "\n",
        "aR = np.add(a,b)        #Addition\n",
        "print(aR)"
      ],
      "metadata": {
        "colab": {
          "base_uri": "https://localhost:8080/"
        },
        "id": "0pXQucOJrJ7u",
        "outputId": "61735101-2534-483b-b72c-440885f24b12"
      },
      "execution_count": null,
      "outputs": [
        {
          "output_type": "stream",
          "name": "stdout",
          "text": [
            "[ 6 -2]\n"
          ]
        }
      ]
    },
    {
      "cell_type": "code",
      "source": [
        "sR = np.subtract(a,b)   #Subtraction\n",
        "print(sR)"
      ],
      "metadata": {
        "colab": {
          "base_uri": "https://localhost:8080/"
        },
        "id": "9Okvd8eSvfpC",
        "outputId": "136e56f6-346a-4597-af37-c5c2bcc16f4b"
      },
      "execution_count": null,
      "outputs": [
        {
          "output_type": "stream",
          "name": "stdout",
          "text": [
            "[2 8]\n"
          ]
        }
      ]
    },
    {
      "cell_type": "code",
      "source": [
        "mR = np.multiply(a,b)   #Multiplication\n",
        "print(mR)"
      ],
      "metadata": {
        "colab": {
          "base_uri": "https://localhost:8080/"
        },
        "id": "kZrxwHjwvjb5",
        "outputId": "5683eea4-d97d-42ca-a8c9-41caa6650d9d"
      },
      "execution_count": null,
      "outputs": [
        {
          "output_type": "stream",
          "name": "stdout",
          "text": [
            "[  8 -15]\n"
          ]
        }
      ]
    },
    {
      "cell_type": "code",
      "source": [
        "dR = np.divide(a,b)     #Division\n",
        "print(dR)"
      ],
      "metadata": {
        "colab": {
          "base_uri": "https://localhost:8080/"
        },
        "id": "eiYNOwZxvmTR",
        "outputId": "5ac5b5f0-8eab-43ac-87d1-2500bdde770c"
      },
      "execution_count": null,
      "outputs": [
        {
          "output_type": "stream",
          "name": "stdout",
          "text": [
            "[ 2.  -0.6]\n"
          ]
        }
      ]
    },
    {
      "cell_type": "code",
      "source": [
        "s = np.array([2])\n",
        "\n",
        "spR1 = np.multiply(s,a)   #Scalar Product\n",
        "spR2 = np.multiply(s,b)\n",
        "\n",
        "print(spR1)\n",
        "print(spR2)"
      ],
      "metadata": {
        "colab": {
          "base_uri": "https://localhost:8080/"
        },
        "id": "Q34ME488vmJw",
        "outputId": "aab53251-0221-4f88-e09a-6ad4f1018bf0"
      },
      "execution_count": null,
      "outputs": [
        {
          "output_type": "stream",
          "name": "stdout",
          "text": [
            "[8 6]\n",
            "[  4 -10]\n"
          ]
        }
      ]
    },
    {
      "cell_type": "code",
      "source": [
        "dpR = np.dot(a,b)       #Dot Product\n",
        "print(dpR)"
      ],
      "metadata": {
        "colab": {
          "base_uri": "https://localhost:8080/"
        },
        "id": "2BwBgnnYvsO9",
        "outputId": "680b2ff8-7c61-4791-cfc5-ba64456ac927"
      },
      "execution_count": null,
      "outputs": [
        {
          "output_type": "stream",
          "name": "stdout",
          "text": [
            "-7\n"
          ]
        }
      ]
    },
    {
      "cell_type": "code",
      "source": [
        "cpR = np.cross(a,b)     #Cross Product\n",
        "print(cpR)"
      ],
      "metadata": {
        "id": "nUFp6beOw03J",
        "colab": {
          "base_uri": "https://localhost:8080/"
        },
        "outputId": "6d713f81-0472-496b-b0e9-191935ecbd9e"
      },
      "execution_count": null,
      "outputs": [
        {
          "output_type": "stream",
          "name": "stdout",
          "text": [
            "-26\n"
          ]
        }
      ]
    },
    {
      "cell_type": "markdown",
      "source": [
        "Property of Matrix"
      ],
      "metadata": {
        "id": "ESVtw4rKy1x-"
      }
    },
    {
      "cell_type": "code",
      "source": [
        "c = np.eye(2,2)         #Identity Matrix\n",
        "print(c)"
      ],
      "metadata": {
        "colab": {
          "base_uri": "https://localhost:8080/"
        },
        "id": "OBgjWzr-y4o-",
        "outputId": "16b1dde8-4cb3-41f8-9709-9a8065f849de"
      },
      "execution_count": null,
      "outputs": [
        {
          "output_type": "stream",
          "name": "stdout",
          "text": [
            "[[1. 0.]\n",
            " [0. 1.]]\n"
          ]
        }
      ]
    },
    {
      "cell_type": "code",
      "source": [
        "d = np.zeros([5,5])     #Zero Matrix\n",
        "print(d)"
      ],
      "metadata": {
        "colab": {
          "base_uri": "https://localhost:8080/"
        },
        "id": "6B3LU5MNzqc8",
        "outputId": "288f8fd2-98f8-4957-feab-a166db57eba9"
      },
      "execution_count": null,
      "outputs": [
        {
          "output_type": "stream",
          "name": "stdout",
          "text": [
            "[[0. 0. 0. 0. 0.]\n",
            " [0. 0. 0. 0. 0.]\n",
            " [0. 0. 0. 0. 0.]\n",
            " [0. 0. 0. 0. 0.]\n",
            " [0. 0. 0. 0. 0.]]\n"
          ]
        }
      ]
    },
    {
      "cell_type": "code",
      "source": [
        "e = np.full([3,3],7)    #Full Matrix\n",
        "print(e)"
      ],
      "metadata": {
        "colab": {
          "base_uri": "https://localhost:8080/"
        },
        "id": "PlNduROp0JTN",
        "outputId": "789023c9-2b1e-42a9-90fe-9d4b6893c330"
      },
      "execution_count": null,
      "outputs": [
        {
          "output_type": "stream",
          "name": "stdout",
          "text": [
            "[[7 7 7]\n",
            " [7 7 7]\n",
            " [7 7 7]]\n"
          ]
        }
      ]
    },
    {
      "cell_type": "code",
      "source": [
        "f = np.transpose(a)      #Transpose Matrix\n",
        "print(f)"
      ],
      "metadata": {
        "colab": {
          "base_uri": "https://localhost:8080/"
        },
        "id": "lykwr3Sj0ikS",
        "outputId": "33bed29f-8756-47fb-a014-770d5ee23c2c"
      },
      "execution_count": 132,
      "outputs": [
        {
          "output_type": "stream",
          "name": "stdout",
          "text": [
            "[4 3]\n"
          ]
        }
      ]
    },
    {
      "cell_type": "code",
      "source": [
        "g = np.empty([0,0])       #Empty Matrix\n",
        "print(g)"
      ],
      "metadata": {
        "colab": {
          "base_uri": "https://localhost:8080/"
        },
        "id": "rvKdc-pG1rcT",
        "outputId": "08696c6d-6418-45cb-b7aa-e72c2522b954"
      },
      "execution_count": null,
      "outputs": [
        {
          "output_type": "stream",
          "name": "stdout",
          "text": [
            "[]\n"
          ]
        }
      ]
    }
  ]
}