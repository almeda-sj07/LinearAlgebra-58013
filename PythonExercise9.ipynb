{
  "nbformat": 4,
  "nbformat_minor": 0,
  "metadata": {
    "colab": {
      "provenance": [],
      "authorship_tag": "ABX9TyN/mCMC2tQ9K24HUyiIFsyL",
      "include_colab_link": true
    },
    "kernelspec": {
      "name": "python3",
      "display_name": "Python 3"
    },
    "language_info": {
      "name": "python"
    }
  },
  "cells": [
    {
      "cell_type": "markdown",
      "metadata": {
        "id": "view-in-github",
        "colab_type": "text"
      },
      "source": [
        "<a href=\"https://colab.research.google.com/github/almeda-sj07/LinearAlgebra-58013/blob/main/PythonExercise9.ipynb\" target=\"_parent\"><img src=\"https://colab.research.google.com/assets/colab-badge.svg\" alt=\"Open In Colab\"/></a>"
      ]
    },
    {
      "cell_type": "code",
      "execution_count": 77,
      "metadata": {
        "colab": {
          "base_uri": "https://localhost:8080/"
        },
        "id": "uyLcduXBt7xr",
        "outputId": "6059757b-ca19-4345-8589-dcde41a5907e"
      },
      "outputs": [
        {
          "output_type": "execute_result",
          "data": {
            "text/plain": [
              "3.0000000000000004"
            ]
          },
          "metadata": {},
          "execution_count": 77
        }
      ],
      "source": [
        "import numpy as np\n",
        "import matplotlib.pyplot as plt\n",
        "%matplotlib inline\n",
        "\n",
        "A = np.array([\n",
        "    [1,4],\n",
        "    [0,3]\n",
        "])\n",
        "np.linalg.det(A)"
      ]
    },
    {
      "cell_type": "code",
      "source": [
        "## Now other mathematics classes would require you to solve this by hand,\n",
        "## and that is great for practicing your memorization and coordination skills\n",
        "## but in this class we aim for simplicity and speed so we'll use programming\n",
        "## but it's completely fine if you want to try to solve this one by hand.\n",
        "B = np.array([\n",
        "    [1,3,5,6],\n",
        "    [0,3,1,3],\n",
        "    [3,1,8,2],\n",
        "    [5,2,6,8]\n",
        "])\n",
        "np.linalg.det(B)"
      ],
      "metadata": {
        "colab": {
          "base_uri": "https://localhost:8080/"
        },
        "id": "4fe-kETC30lO",
        "outputId": "662c097d-c4df-4ca1-fd28-8d79a8b3d2a7"
      },
      "execution_count": 78,
      "outputs": [
        {
          "output_type": "execute_result",
          "data": {
            "text/plain": [
              "-235.0000000000002"
            ]
          },
          "metadata": {},
          "execution_count": 78
        }
      ]
    },
    {
      "cell_type": "markdown",
      "source": [
        "Coding Activity 9"
      ],
      "metadata": {
        "id": "XTEM5qkG5UL9"
      }
    },
    {
      "cell_type": "code",
      "source": [
        "A = np.array([\n",
        "    [8,4,5],\n",
        "    [9,10,23],\n",
        "    [0,9,10]\n",
        "])\n",
        "\n",
        "B = np.array([\n",
        "    [1,1,1],\n",
        "    [1,2,2],\n",
        "    [1,2,3]\n",
        "])\n",
        "\n",
        "#Commutative Property of Matrix Multiplication: AB ≠ BA\n",
        "AB = np.dot(A,B)\n",
        "BA = np.dot(B,A)\n",
        "\n",
        "t_value = np.equal(AB,BA)\n",
        "\n",
        "print(\"Product of A & B:\\n\",AB,\"\\nProduct of B & A:\\n\",BA)\n",
        "print(\"\\nTruth value of AB & BA:\\n\",t_value)\n",
        "print(\"Therefore, AB is not equal to BA.\")"
      ],
      "metadata": {
        "colab": {
          "base_uri": "https://localhost:8080/"
        },
        "id": "mZetTEbR5KMN",
        "outputId": "40ea3dd5-dce9-4004-a9a1-30fe1c5c23bc"
      },
      "execution_count": 79,
      "outputs": [
        {
          "output_type": "stream",
          "name": "stdout",
          "text": [
            "Product of A & B:\n",
            " [[17 26 31]\n",
            " [42 75 98]\n",
            " [19 38 48]] \n",
            "Product of B & A:\n",
            " [[17 23 38]\n",
            " [26 42 71]\n",
            " [26 51 81]]\n",
            "\n",
            "Truth value of AB & BA:\n",
            " [[ True False False]\n",
            " [False False False]\n",
            " [False False False]]\n",
            "Therefore, AB is not equal to BA.\n"
          ]
        }
      ]
    },
    {
      "cell_type": "code",
      "source": [
        "#Associative Property of Matrix Multiplication: (AB)C = A(BC)\n",
        "\n",
        "C = np.array([\n",
        "    [1,0,0],\n",
        "    [1,1,0],\n",
        "    [1,1,1]\n",
        "])\n",
        "\n",
        "BC = np.dot(B,C)\n",
        "AB_C = np.dot(AB,C)\n",
        "A_BC = np.dot(A,BC)\n",
        "\n",
        "t_value = np.equal(AB_C,A_BC)\n",
        "\n",
        "print(\"Product of AB & C:\\n\",AB_C,\"\\nProduct of A & BC:\\n\",A_BC)\n",
        "print(\"\\nTruth value of (AB)C & A(BC):\\n\",t_value)\n",
        "print(\"Therefore, (AB)C is equal to A(BC).\")"
      ],
      "metadata": {
        "colab": {
          "base_uri": "https://localhost:8080/"
        },
        "id": "lgV3wFLUBo_z",
        "outputId": "38df7179-fcdf-42a3-f6d7-7d9a397ac798"
      },
      "execution_count": 80,
      "outputs": [
        {
          "output_type": "stream",
          "name": "stdout",
          "text": [
            "Product of AB & C:\n",
            " [[ 74  57  31]\n",
            " [215 173  98]\n",
            " [105  86  48]] \n",
            "Product of A & BC:\n",
            " [[ 74  57  31]\n",
            " [215 173  98]\n",
            " [105  86  48]]\n",
            "\n",
            "Truth value of (AB)C & A(BC):\n",
            " [[ True  True  True]\n",
            " [ True  True  True]\n",
            " [ True  True  True]]\n",
            "Therefore, (AB)C is equal to A(BC).\n"
          ]
        }
      ]
    },
    {
      "cell_type": "code",
      "source": [
        "#Distributive Property of Matrix Multiplication: A(B+C) = AB + AC\n",
        "\n",
        "add_BC = np.add(B,C)\n",
        "A_add_BC = np.dot(A,add_BC)\n",
        "\n",
        "AC = np.dot(A,C)\n",
        "total = np.add(AB,AC)\n",
        "\n",
        "t_value = np.equal(A_add_BC,total)\n",
        "\n",
        "print(\"Product of A(B+C):\\n\",A_add_BC,\"\\nSum of AB & AC:\\n\",total)\n",
        "print(\"\\nTruth value of A(B+C) & AB + AC:\\n\",t_value)\n",
        "print(\"Therefore, A(B+C) is equal to AB + AC.\")"
      ],
      "metadata": {
        "colab": {
          "base_uri": "https://localhost:8080/"
        },
        "id": "YomGKsgNCuaB",
        "outputId": "7276cc12-a4a1-4176-9e9b-8abaf27236d5"
      },
      "execution_count": 81,
      "outputs": [
        {
          "output_type": "stream",
          "name": "stdout",
          "text": [
            "Product of A(B+C):\n",
            " [[ 34  35  36]\n",
            " [ 84 108 121]\n",
            " [ 38  57  58]] \n",
            "Sum of AB & AC:\n",
            " [[ 34  35  36]\n",
            " [ 84 108 121]\n",
            " [ 38  57  58]]\n",
            "\n",
            "Truth value of A(B+C) & AB + AC:\n",
            " [[ True  True  True]\n",
            " [ True  True  True]\n",
            " [ True  True  True]]\n",
            "Therefore, A(B+C) is equal to AB + AC.\n"
          ]
        }
      ]
    },
    {
      "cell_type": "code",
      "source": [
        "#Multiplicative Identity Property: IA = A; AI = A\n",
        "\n",
        "I = 1\n",
        "IA = np.dot(I,A)\n",
        "AI = np.dot(A,I)\n",
        "\n",
        "t_value1 = np.equal(A,IA)\n",
        "t_value2 = np.equal(A,AI)\n",
        "t_value3 = np.equal(IA,AI)\n",
        "\n",
        "print(\"Array A:\\n\",A,\"\\nProduct of I & A:\\n\",IA,\"\\nProoduct of A & I:\\n\",AI)\n",
        "print(\"\\nTruth value of A & IA:\\n\",t_value1)\n",
        "print(\"Truth value of A & AI:\\n\",t_value2)\n",
        "print(\"Truth value of IA & AI:\\n\",t_value3)\n",
        "print(\"Therefore, IA = AI = A\")"
      ],
      "metadata": {
        "colab": {
          "base_uri": "https://localhost:8080/"
        },
        "id": "J-9j_LbSD4JA",
        "outputId": "0bfdad3b-d8ed-4a55-f3b5-6a712b913296"
      },
      "execution_count": 82,
      "outputs": [
        {
          "output_type": "stream",
          "name": "stdout",
          "text": [
            "Array A:\n",
            " [[ 8  4  5]\n",
            " [ 9 10 23]\n",
            " [ 0  9 10]] \n",
            "Product of I & A:\n",
            " [[ 8  4  5]\n",
            " [ 9 10 23]\n",
            " [ 0  9 10]] \n",
            "Prooduct of A & I:\n",
            " [[ 8  4  5]\n",
            " [ 9 10 23]\n",
            " [ 0  9 10]]\n",
            "\n",
            "Truth value of A & IA:\n",
            " [[ True  True  True]\n",
            " [ True  True  True]\n",
            " [ True  True  True]]\n",
            "Truth value of A & AI:\n",
            " [[ True  True  True]\n",
            " [ True  True  True]\n",
            " [ True  True  True]]\n",
            "Truth value of IA & AI:\n",
            " [[ True  True  True]\n",
            " [ True  True  True]\n",
            " [ True  True  True]]\n",
            "Therefore, IA = AI = A\n"
          ]
        }
      ]
    },
    {
      "cell_type": "code",
      "source": [
        "#Multiplicative Property of Zero: OA = O; AO = O\n",
        "\n",
        "O = 0\n",
        "OA = np.dot(O,A)\n",
        "AO = np.dot(A,O)\n",
        "\n",
        "t_value = np.equal(OA,AO)\n",
        "\n",
        "print(\"O =\",O,\"\\nProduct of O & A:\\n\",OA,\"\\nProduct of A & O:\\n\",AO)\n",
        "print(\"\\nTruth value of OA & AO:\\n\",t_value)\n",
        "print(\"Therefore, OA = AO = O.\")"
      ],
      "metadata": {
        "colab": {
          "base_uri": "https://localhost:8080/"
        },
        "id": "CPr-lrfFFhzw",
        "outputId": "6f24d0cb-a5ea-4064-bc53-2d62ed2472f5"
      },
      "execution_count": 83,
      "outputs": [
        {
          "output_type": "stream",
          "name": "stdout",
          "text": [
            "O = 0 \n",
            "Product of O & A:\n",
            " [[0 0 0]\n",
            " [0 0 0]\n",
            " [0 0 0]] \n",
            "Product of A & O:\n",
            " [[0 0 0]\n",
            " [0 0 0]\n",
            " [0 0 0]]\n",
            "\n",
            "Truth value of OA & AO:\n",
            " [[ True  True  True]\n",
            " [ True  True  True]\n",
            " [ True  True  True]]\n",
            "Therefore, OA = AO = O.\n"
          ]
        }
      ]
    },
    {
      "cell_type": "code",
      "source": [
        "#Dimension Property: (m x n)*(n x k) = (m x k)\n",
        "\n",
        "D = np.array([\n",
        "    [1,2],\n",
        "    [2,3],\n",
        "    [3,4]\n",
        "])\n",
        "\n",
        "E = np.array([\n",
        "    [1,1,2],\n",
        "    [2,2,3]\n",
        "])\n",
        "\n",
        "sD = np.shape(D) #(m x n)\n",
        "sE = np.shape(E) #(n x k)\n",
        "DE = np.dot(D,E)\n",
        "sDE = np.shape(DE) #(m x k)\n",
        "\n",
        "print(\"Shape of array D:\",sD,\"\\nShape of array E:\",sE)\n",
        "print(\"Product of D & E:\\n\",DE,\"\\nShape of DE:\",sDE)\n",
        "print(\"Therefore, (m x n)*(n x k) = (m x k).\")"
      ],
      "metadata": {
        "colab": {
          "base_uri": "https://localhost:8080/"
        },
        "id": "0Kc1w0b7GSRQ",
        "outputId": "80c5296a-4057-45bb-c973-e2559e317a4b"
      },
      "execution_count": 84,
      "outputs": [
        {
          "output_type": "stream",
          "name": "stdout",
          "text": [
            "Shape of array D: (3, 2) \n",
            "Shape of array E: (2, 3)\n",
            "Product of D & E:\n",
            " [[ 5  5  8]\n",
            " [ 8  8 13]\n",
            " [11 11 18]] \n",
            "Shape of DE: (3, 3)\n",
            "Therefore, (m x n)*(n x k) = (m x k).\n"
          ]
        }
      ]
    }
  ]
}