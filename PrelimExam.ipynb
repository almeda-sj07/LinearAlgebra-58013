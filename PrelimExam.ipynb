{
  "nbformat": 4,
  "nbformat_minor": 0,
  "metadata": {
    "colab": {
      "provenance": [],
      "authorship_tag": "ABX9TyMlOWLl91ml244G1X/jnG/B",
      "include_colab_link": true
    },
    "kernelspec": {
      "name": "python3",
      "display_name": "Python 3"
    },
    "language_info": {
      "name": "python"
    }
  },
  "cells": [
    {
      "cell_type": "markdown",
      "metadata": {
        "id": "view-in-github",
        "colab_type": "text"
      },
      "source": [
        "<a href=\"https://colab.research.google.com/github/almeda-sj07/LinearAlgebra-58013/blob/main/PrelimExam.ipynb\" target=\"_parent\"><img src=\"https://colab.research.google.com/assets/colab-badge.svg\" alt=\"Open In Colab\"/></a>"
      ]
    },
    {
      "cell_type": "markdown",
      "source": [
        "Question 1. (20 points) Create a Multiplication Table/Chart of 1 to 10 using numpy/ python program.\n",
        "\n"
      ],
      "metadata": {
        "id": "KQxsAtDssYgT"
      }
    },
    {
      "cell_type": "code",
      "execution_count": 32,
      "metadata": {
        "id": "xBJZBvA2sUgf",
        "colab": {
          "base_uri": "https://localhost:8080/"
        },
        "outputId": "2d44c96c-85ff-4e53-84cd-729e8c797884"
      },
      "outputs": [
        {
          "output_type": "stream",
          "name": "stdout",
          "text": [
            "Multiplication Table/Chart of 1 to 10:\n",
            " [[  1   2   3   4   5   6   7   8   9  10]\n",
            " [  2   4   6   8  10  12  14  16  18  20]\n",
            " [  3   6   9  12  15  18  21  24  27  30]\n",
            " [  4   8  12  16  20  24  28  32  36  40]\n",
            " [  5  10  15  20  25  30  35  40  45  50]\n",
            " [  6  12  18  24  30  36  42  48  54  60]\n",
            " [  7  14  21  28  35  42  49  56  63  70]\n",
            " [  8  16  24  32  40  48  56  64  72  80]\n",
            " [  9  18  27  36  45  54  63  72  81  90]\n",
            " [ 10  20  30  40  50  60  70  80  90 100]]\n"
          ]
        }
      ],
      "source": [
        "import numpy as np\n",
        "\n",
        "MT = np.array([\n",
        "    [1,2,3,4,5,6,7,8,9,10],\n",
        "    [2,4,6,8,10,12,14,16,18,20],\n",
        "    [3,6,9,12,15,18,21,24,27,30],\n",
        "    [4,8,12,16,20,24,28,32,36,40],\n",
        "    [5,10,15,20,25,30,35,40,45,50],\n",
        "    [6,12,18,24,30,36,42,48,54,60],\n",
        "    [7,14,21,28,35,42,49,56,63,70],\n",
        "    [8,16,24,32,40,48,56,64,72,80],\n",
        "    [9,18,27,36,45,54,63,72,81,90],\n",
        "    [10,20,30,40,50,60,70,80,90,100]\n",
        "])\n",
        "print(\"Multiplication Table/Chart of 1 to 10:\\n\",MT)"
      ]
    },
    {
      "cell_type": "markdown",
      "source": [
        "Question 2. (10 points) In relation to Question 1, show a solution that doubles all the values of each element."
      ],
      "metadata": {
        "id": "HHlq_BletEop"
      }
    },
    {
      "cell_type": "code",
      "source": [
        "db = np.multiply(2,MT)\n",
        "print(\"The new Multiplication Table is:\\n\",db)"
      ],
      "metadata": {
        "id": "SICkj7y5tGLx",
        "colab": {
          "base_uri": "https://localhost:8080/"
        },
        "outputId": "332e2b86-22e2-4336-d65c-ef4178bb6d80"
      },
      "execution_count": 33,
      "outputs": [
        {
          "output_type": "stream",
          "name": "stdout",
          "text": [
            "The new Multiplication Table is:\n",
            " [[  2   4   6   8  10  12  14  16  18  20]\n",
            " [  4   8  12  16  20  24  28  32  36  40]\n",
            " [  6  12  18  24  30  36  42  48  54  60]\n",
            " [  8  16  24  32  40  48  56  64  72  80]\n",
            " [ 10  20  30  40  50  60  70  80  90 100]\n",
            " [ 12  24  36  48  60  72  84  96 108 120]\n",
            " [ 14  28  42  56  70  84  98 112 126 140]\n",
            " [ 16  32  48  64  80  96 112 128 144 160]\n",
            " [ 18  36  54  72  90 108 126 144 162 180]\n",
            " [ 20  40  60  80 100 120 140 160 180 200]]\n"
          ]
        }
      ]
    },
    {
      "cell_type": "markdown",
      "source": [
        "Question 3. (10 points) Create a square matrix that has a diagonal 1's."
      ],
      "metadata": {
        "id": "aUupQ7SDtGbB"
      }
    },
    {
      "cell_type": "code",
      "source": [
        "D = np.eye(5,5)\n",
        "D"
      ],
      "metadata": {
        "colab": {
          "base_uri": "https://localhost:8080/"
        },
        "id": "HZX7cBSStH75",
        "outputId": "bcba8860-4756-4efc-f8ae-c244314c5f44"
      },
      "execution_count": 34,
      "outputs": [
        {
          "output_type": "execute_result",
          "data": {
            "text/plain": [
              "array([[1., 0., 0., 0., 0.],\n",
              "       [0., 1., 0., 0., 0.],\n",
              "       [0., 0., 1., 0., 0.],\n",
              "       [0., 0., 0., 1., 0.],\n",
              "       [0., 0., 0., 0., 1.]])"
            ]
          },
          "metadata": {},
          "execution_count": 34
        }
      ]
    },
    {
      "cell_type": "markdown",
      "source": [
        "Question 4. (30 points) Create a matrix whose elements are:"
      ],
      "metadata": {
        "id": "g6kltmqwtIKh"
      }
    },
    {
      "cell_type": "code",
      "source": [
        "matrix = np.array([[1,2,3,4],\n",
        "                   [5,6,7,8],\n",
        "                   [9,10,11,12]])"
      ],
      "metadata": {
        "id": "p9vf0oDatKAB"
      },
      "execution_count": 35,
      "outputs": []
    },
    {
      "cell_type": "markdown",
      "source": [
        "Type a python program that can view the size, shape, and dimension of the matrix above."
      ],
      "metadata": {
        "id": "v7VSm-u4ttl5"
      }
    },
    {
      "cell_type": "code",
      "source": [
        "sz = matrix.size\n",
        "sh = matrix.shape\n",
        "dim = matrix.ndim\n",
        "\n",
        "print(\"The size of the matrix is\",sz)\n",
        "print(\"The shape of the matrix is\",sh)\n",
        "print(\"The dimension of the matrix is\",dim)"
      ],
      "metadata": {
        "id": "7XvOkIDotuIB",
        "colab": {
          "base_uri": "https://localhost:8080/"
        },
        "outputId": "8a664a88-d372-42eb-b8b6-bcc422714144"
      },
      "execution_count": 36,
      "outputs": [
        {
          "output_type": "stream",
          "name": "stdout",
          "text": [
            "The size of the matrix is 12\n",
            "The shape of the matrix is (3, 4)\n",
            "The dimension of the matrix is 2\n"
          ]
        }
      ]
    },
    {
      "cell_type": "markdown",
      "source": [
        "Question 5. (30 points) Create a result array by adding the following two NumPy arrays. Next, modify the result array by calculating the square of each element."
      ],
      "metadata": {
        "id": "wRhZDDlEtLSh"
      }
    },
    {
      "cell_type": "code",
      "source": [
        "arrayOne = np.array([[5,6,9], [21,18,27]])\n",
        "arrayTwo = np.array([[15,33,24], [4,7,1]])\n",
        "\n",
        "sum = np.add(arrayOne, arrayTwo)\n",
        "print(\"The sum of the arrays are:\\n\",sum)"
      ],
      "metadata": {
        "id": "07InqJ_5tLxx",
        "colab": {
          "base_uri": "https://localhost:8080/"
        },
        "outputId": "64524b16-8dbf-4491-af78-6d8d72f09d4c"
      },
      "execution_count": 19,
      "outputs": [
        {
          "output_type": "stream",
          "name": "stdout",
          "text": [
            "The sum of the arrays are:\n",
            " [[20 39 33]\n",
            " [25 25 28]]\n"
          ]
        }
      ]
    },
    {
      "cell_type": "code",
      "source": [
        "sq1 = np.multiply(arrayOne, arrayOne)\n",
        "sq2 = np.multiply(arrayTwo, arrayTwo)\n",
        "sum1 = np.add(sq1,sq2)\n",
        "\n",
        "print(\"The square of the elements of the arrays are:\\n\",\"arrayOne:\\n\",sq1,\"\\narrayTwo:\\n\",sq2)\n",
        "print(\"\\nThe new sum of the arrays are:\\n\",sum1)"
      ],
      "metadata": {
        "id": "GlVlT-6MuY0L",
        "colab": {
          "base_uri": "https://localhost:8080/"
        },
        "outputId": "195e82f6-526c-4845-facb-13721c329141"
      },
      "execution_count": 23,
      "outputs": [
        {
          "output_type": "stream",
          "name": "stdout",
          "text": [
            "The square of the elements of the arrays are:\n",
            " arrayOne:\n",
            " [[ 25  36  81]\n",
            " [441 324 729]] \n",
            "arrayTwo:\n",
            " [[ 225 1089  576]\n",
            " [  16   49    1]]\n",
            "\n",
            "The new sum of the arrays are:\n",
            " [[ 250 1125  657]\n",
            " [ 457  373  730]]\n"
          ]
        }
      ]
    }
  ]
}