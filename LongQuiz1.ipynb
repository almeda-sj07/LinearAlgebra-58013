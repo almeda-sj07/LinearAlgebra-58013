{
  "nbformat": 4,
  "nbformat_minor": 0,
  "metadata": {
    "colab": {
      "provenance": [],
      "authorship_tag": "ABX9TyN9LXaDq7L1TPCcrbnfVM9w",
      "include_colab_link": true
    },
    "kernelspec": {
      "name": "python3",
      "display_name": "Python 3"
    },
    "language_info": {
      "name": "python"
    }
  },
  "cells": [
    {
      "cell_type": "markdown",
      "metadata": {
        "id": "view-in-github",
        "colab_type": "text"
      },
      "source": [
        "<a href=\"https://colab.research.google.com/github/almeda-sj07/LinearAlgebra-58013/blob/main/LongQuiz1.ipynb\" target=\"_parent\"><img src=\"https://colab.research.google.com/assets/colab-badge.svg\" alt=\"Open In Colab\"/></a>"
      ]
    },
    {
      "cell_type": "markdown",
      "source": [
        "Problem 1. Consider the four matrices, A = [1,2,3,4,5,6], B = [1,2,3,4,5,6], C = [1,2,3,4,5,6,7,8,9], D = [1,2,3,4]"
      ],
      "metadata": {
        "id": "nYma8l42VUsL"
      }
    },
    {
      "cell_type": "code",
      "source": [
        "import numpy as np\n",
        "\n",
        "A = np.array([\n",
        "    [1,2,3],\n",
        "    [4,5,6]\n",
        "])\n",
        "\n",
        "B = np.array([\n",
        "    [1,2],\n",
        "    [3,4],\n",
        "    [5,6]\n",
        "])\n",
        "\n",
        "C = np.array([\n",
        "    [1,2,3],\n",
        "    [4,5,6],\n",
        "    [7,8,9]\n",
        "\n",
        "])\n",
        "\n",
        "D = np.array([\n",
        "    [1,2],\n",
        "    [3,4]\n",
        "])\n",
        "\n",
        "print(\"array A:\\n\",A)\n",
        "print(\"array B:\\n\",B)\n",
        "print(\"array C:\\n\",C)\n",
        "print(\"array D:\\n\",D)"
      ],
      "metadata": {
        "colab": {
          "base_uri": "https://localhost:8080/"
        },
        "id": "i2e1pBDYVTz0",
        "outputId": "7ae159cc-bf7a-4c1e-d4a6-b63faa7a28ff"
      },
      "execution_count": 50,
      "outputs": [
        {
          "output_type": "stream",
          "name": "stdout",
          "text": [
            "array A:\n",
            " [[1 2 3]\n",
            " [4 5 6]]\n",
            "array B:\n",
            " [[1 2]\n",
            " [3 4]\n",
            " [5 6]]\n",
            "array C:\n",
            " [[1 2 3]\n",
            " [4 5 6]\n",
            " [7 8 9]]\n",
            "array D:\n",
            " [[1 2]\n",
            " [3 4]]\n"
          ]
        }
      ]
    },
    {
      "cell_type": "markdown",
      "source": [
        "a. AB"
      ],
      "metadata": {
        "id": "7q3qm1Wa0TGz"
      }
    },
    {
      "cell_type": "code",
      "source": [
        "dp = np.dot(A,B)\n",
        "dp"
      ],
      "metadata": {
        "colab": {
          "base_uri": "https://localhost:8080/"
        },
        "id": "TsEDPALI0QLS",
        "outputId": "ad0f0bda-f169-46d4-9f21-7cfbfe871ffa"
      },
      "execution_count": 54,
      "outputs": [
        {
          "output_type": "execute_result",
          "data": {
            "text/plain": [
              "array([[22, 28],\n",
              "       [49, 64]])"
            ]
          },
          "metadata": {},
          "execution_count": 54
        }
      ]
    },
    {
      "cell_type": "markdown",
      "source": [
        "b. D + D"
      ],
      "metadata": {
        "id": "YXRGH8mK0Up4"
      }
    },
    {
      "cell_type": "code",
      "source": [
        "sum = np.add(D,D)\n",
        "sum"
      ],
      "metadata": {
        "colab": {
          "base_uri": "https://localhost:8080/"
        },
        "id": "Jx0UD9Bo0W4S",
        "outputId": "2eddb5a7-ec4a-4526-dd07-950863902616"
      },
      "execution_count": 55,
      "outputs": [
        {
          "output_type": "execute_result",
          "data": {
            "text/plain": [
              "array([[2, 4],\n",
              "       [6, 8]])"
            ]
          },
          "metadata": {},
          "execution_count": 55
        }
      ]
    },
    {
      "cell_type": "markdown",
      "source": [
        "c. 2C"
      ],
      "metadata": {
        "id": "0krWynev0XV4"
      }
    },
    {
      "cell_type": "code",
      "source": [
        "prod = np.multiply(2,C)\n",
        "prod"
      ],
      "metadata": {
        "colab": {
          "base_uri": "https://localhost:8080/"
        },
        "id": "5bvvTEFq0Y_D",
        "outputId": "031951bd-fb5e-43a4-c9a2-b467d45d7162"
      },
      "execution_count": 56,
      "outputs": [
        {
          "output_type": "execute_result",
          "data": {
            "text/plain": [
              "array([[ 2,  4,  6],\n",
              "       [ 8, 10, 12],\n",
              "       [14, 16, 18]])"
            ]
          },
          "metadata": {},
          "execution_count": 56
        }
      ]
    },
    {
      "cell_type": "markdown",
      "source": [
        "Problem 2. Find the cross-product of matrices, A = [2,7,4] and B. = [3,9,8]. Show your solutions using Python program."
      ],
      "metadata": {
        "id": "Cd5rFkmsvASt"
      }
    },
    {
      "cell_type": "code",
      "source": [
        "A = np.array([2,7,4])\n",
        "B = np.array([3,9,8])\n",
        "\n",
        "cp = np.cross(A,B)\n",
        "cp"
      ],
      "metadata": {
        "colab": {
          "base_uri": "https://localhost:8080/"
        },
        "id": "gmVFJBSrvA8j",
        "outputId": "c025d509-c2dd-4df9-de21-8db6584a7366"
      },
      "execution_count": 57,
      "outputs": [
        {
          "output_type": "execute_result",
          "data": {
            "text/plain": [
              "array([20, -4, -3])"
            ]
          },
          "metadata": {},
          "execution_count": 57
        }
      ]
    },
    {
      "cell_type": "code",
      "source": [
        "# A = 2i + 7j + 4k\n",
        "# B = 3i + 9j + 8k\n",
        "\n",
        "x_cp = (A[1]*B[2]-B[1]*A[2])\n",
        "y_cp = (A[2]*B[0]-A[0]*B[2])\n",
        "z_cp = (A[0]*B[1]-A[1]*B[0])\n",
        "\n",
        "print(\"The cross product of A and B is [\",x_cp,\",\",y_cp,\",\",z_cp,\"].\")"
      ],
      "metadata": {
        "colab": {
          "base_uri": "https://localhost:8080/"
        },
        "id": "5QdVB25B19zh",
        "outputId": "ab802715-7ac6-4aa1-8be1-06c3967dae48"
      },
      "execution_count": 58,
      "outputs": [
        {
          "output_type": "stream",
          "name": "stdout",
          "text": [
            "The cross product of A and B is [ 20 , -4 , -3 ].\n"
          ]
        }
      ]
    }
  ]
}