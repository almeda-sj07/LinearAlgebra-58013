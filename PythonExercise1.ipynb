{
  "nbformat": 4,
  "nbformat_minor": 0,
  "metadata": {
    "colab": {
      "provenance": [],
      "authorship_tag": "ABX9TyOsoklBgbc8QHNMdmTumnK+",
      "include_colab_link": true
    },
    "kernelspec": {
      "name": "python3",
      "display_name": "Python 3"
    },
    "language_info": {
      "name": "python"
    }
  },
  "cells": [
    {
      "cell_type": "markdown",
      "metadata": {
        "id": "view-in-github",
        "colab_type": "text"
      },
      "source": [
        "<a href=\"https://colab.research.google.com/github/almeda-sj07/LinearAlgebra-58013/blob/main/PythonExercise1.ipynb\" target=\"_parent\"><img src=\"https://colab.research.google.com/assets/colab-badge.svg\" alt=\"Open In Colab\"/></a>"
      ]
    },
    {
      "cell_type": "markdown",
      "source": [
        "**Python Fundamentals**"
      ],
      "metadata": {
        "id": "I5OqGS-YAv8Q"
      }
    },
    {
      "cell_type": "markdown",
      "source": [
        "A. Variable and Data Types"
      ],
      "metadata": {
        "id": "8yxKfmoNBdCT"
      }
    },
    {
      "cell_type": "code",
      "source": [
        "x = 1\n",
        "a,b = 0,-1\n",
        "\n",
        "type(x)"
      ],
      "metadata": {
        "colab": {
          "base_uri": "https://localhost:8080/"
        },
        "id": "thN-ZH5OAncG",
        "outputId": "cb807c13-8317-465f-b45d-f2d0352e7f0a"
      },
      "execution_count": 1,
      "outputs": [
        {
          "output_type": "execute_result",
          "data": {
            "text/plain": [
              "int"
            ]
          },
          "metadata": {},
          "execution_count": 1
        }
      ]
    },
    {
      "cell_type": "code",
      "source": [
        "y = 1.0\n",
        "type(y)"
      ],
      "metadata": {
        "colab": {
          "base_uri": "https://localhost:8080/"
        },
        "id": "FYtOa_37BqQj",
        "outputId": "561e78c1-f699-440e-cb6f-fe45bdde427e"
      },
      "execution_count": 2,
      "outputs": [
        {
          "output_type": "execute_result",
          "data": {
            "text/plain": [
              "float"
            ]
          },
          "metadata": {},
          "execution_count": 2
        }
      ]
    },
    {
      "cell_type": "code",
      "source": [
        "x = float(x)\n",
        "type(x)"
      ],
      "metadata": {
        "colab": {
          "base_uri": "https://localhost:8080/"
        },
        "id": "Jp_8gsm8BuUe",
        "outputId": "c9c9cb6f-d398-4a5a-8189-2a95bb6273cc"
      },
      "execution_count": 3,
      "outputs": [
        {
          "output_type": "execute_result",
          "data": {
            "text/plain": [
              "float"
            ]
          },
          "metadata": {},
          "execution_count": 3
        }
      ]
    },
    {
      "cell_type": "code",
      "source": [
        "s,t,u = \"0\",'1','one'\n",
        "type(s)"
      ],
      "metadata": {
        "colab": {
          "base_uri": "https://localhost:8080/"
        },
        "id": "_-HFPjdaB2GC",
        "outputId": "e65f220d-2817-42fd-a3b6-dd06d1d957e2"
      },
      "execution_count": 4,
      "outputs": [
        {
          "output_type": "execute_result",
          "data": {
            "text/plain": [
              "str"
            ]
          },
          "metadata": {},
          "execution_count": 4
        }
      ]
    },
    {
      "cell_type": "code",
      "source": [
        "s_int = int(s)\n",
        "s_int"
      ],
      "metadata": {
        "colab": {
          "base_uri": "https://localhost:8080/"
        },
        "id": "zZ5rchSvB7ad",
        "outputId": "79d0a093-afcc-485d-9570-7b2ac7622366"
      },
      "execution_count": 5,
      "outputs": [
        {
          "output_type": "execute_result",
          "data": {
            "text/plain": [
              "0"
            ]
          },
          "metadata": {},
          "execution_count": 5
        }
      ]
    },
    {
      "cell_type": "markdown",
      "source": [
        "B. Arithmetic Operations"
      ],
      "metadata": {
        "id": "hEHpld_rCGDh"
      }
    },
    {
      "cell_type": "code",
      "source": [
        "a,b,c,d = 2.0,-0.5,0,-32\n",
        "\n",
        "### Addition\n",
        "S = a+b\n",
        "S"
      ],
      "metadata": {
        "colab": {
          "base_uri": "https://localhost:8080/"
        },
        "id": "COogKUmbCDEL",
        "outputId": "a05e9b18-3ceb-43a9-b6f6-118e9607e3f4"
      },
      "execution_count": 6,
      "outputs": [
        {
          "output_type": "execute_result",
          "data": {
            "text/plain": [
              "1.5"
            ]
          },
          "metadata": {},
          "execution_count": 6
        }
      ]
    },
    {
      "cell_type": "code",
      "source": [
        "### Subtraction\n",
        "D = b-d\n",
        "D"
      ],
      "metadata": {
        "colab": {
          "base_uri": "https://localhost:8080/"
        },
        "id": "6z4UfgD4CY1G",
        "outputId": "246b08a8-fac0-4be1-af91-f748dc15340e"
      },
      "execution_count": 7,
      "outputs": [
        {
          "output_type": "execute_result",
          "data": {
            "text/plain": [
              "31.5"
            ]
          },
          "metadata": {},
          "execution_count": 7
        }
      ]
    },
    {
      "cell_type": "code",
      "source": [
        "### Multiplication\n",
        "P = a*d\n",
        "P"
      ],
      "metadata": {
        "colab": {
          "base_uri": "https://localhost:8080/"
        },
        "id": "mhZjBo2-Ce5q",
        "outputId": "4f240658-7c07-4fa6-e8ca-df7d9d1e27ff"
      },
      "execution_count": 8,
      "outputs": [
        {
          "output_type": "execute_result",
          "data": {
            "text/plain": [
              "-64.0"
            ]
          },
          "metadata": {},
          "execution_count": 8
        }
      ]
    },
    {
      "cell_type": "code",
      "source": [
        "### Division\n",
        "Q = c/a\n",
        "Q"
      ],
      "metadata": {
        "colab": {
          "base_uri": "https://localhost:8080/"
        },
        "id": "n-IdQyESCfWU",
        "outputId": "63004325-5191-4215-c683-4f6f33ed8c8a"
      },
      "execution_count": 9,
      "outputs": [
        {
          "output_type": "execute_result",
          "data": {
            "text/plain": [
              "0.0"
            ]
          },
          "metadata": {},
          "execution_count": 9
        }
      ]
    },
    {
      "cell_type": "code",
      "source": [
        "### Exponentiation\n",
        "E = a**b\n",
        "E"
      ],
      "metadata": {
        "colab": {
          "base_uri": "https://localhost:8080/"
        },
        "id": "8d5-had6Ctwn",
        "outputId": "a37ad87a-2f47-4ed6-d1f9-575fe95bd91b"
      },
      "execution_count": 10,
      "outputs": [
        {
          "output_type": "execute_result",
          "data": {
            "text/plain": [
              "0.7071067811865476"
            ]
          },
          "metadata": {},
          "execution_count": 10
        }
      ]
    },
    {
      "cell_type": "code",
      "source": [
        "### Modulo\n",
        "mod = d%a\n",
        "mod"
      ],
      "metadata": {
        "colab": {
          "base_uri": "https://localhost:8080/"
        },
        "id": "5xxq05ocC2sd",
        "outputId": "7ac597c0-9f78-4651-9928-8231d95816bd"
      },
      "execution_count": 11,
      "outputs": [
        {
          "output_type": "execute_result",
          "data": {
            "text/plain": [
              "0.0"
            ]
          },
          "metadata": {},
          "execution_count": 11
        }
      ]
    },
    {
      "cell_type": "markdown",
      "source": [
        "C. Assignment Operations"
      ],
      "metadata": {
        "id": "EnN0IF0hDfwv"
      }
    },
    {
      "cell_type": "code",
      "source": [
        "G,H,J,K = 0,100,2,2\n",
        "\n",
        "G += a\n",
        "G"
      ],
      "metadata": {
        "colab": {
          "base_uri": "https://localhost:8080/"
        },
        "id": "1pu70ndbDifg",
        "outputId": "6c4d59ef-6c51-4e8b-d1b3-a4b5c97a07b0"
      },
      "execution_count": 12,
      "outputs": [
        {
          "output_type": "execute_result",
          "data": {
            "text/plain": [
              "2.0"
            ]
          },
          "metadata": {},
          "execution_count": 12
        }
      ]
    },
    {
      "cell_type": "code",
      "source": [
        "H -= d\n",
        "H"
      ],
      "metadata": {
        "colab": {
          "base_uri": "https://localhost:8080/"
        },
        "id": "s6gSMnt_IqQr",
        "outputId": "fc129b8d-096d-40d0-a783-2fc1fe37f3c4"
      },
      "execution_count": 13,
      "outputs": [
        {
          "output_type": "execute_result",
          "data": {
            "text/plain": [
              "132"
            ]
          },
          "metadata": {},
          "execution_count": 13
        }
      ]
    },
    {
      "cell_type": "code",
      "source": [
        "J *= 2\n",
        "J"
      ],
      "metadata": {
        "colab": {
          "base_uri": "https://localhost:8080/"
        },
        "id": "tTi2zl2IEFbM",
        "outputId": "0e8daba0-d402-4ff5-8465-fb92460960af"
      },
      "execution_count": 14,
      "outputs": [
        {
          "output_type": "execute_result",
          "data": {
            "text/plain": [
              "4"
            ]
          },
          "metadata": {},
          "execution_count": 14
        }
      ]
    },
    {
      "cell_type": "code",
      "source": [
        "K **= 2\n",
        "K"
      ],
      "metadata": {
        "colab": {
          "base_uri": "https://localhost:8080/"
        },
        "id": "EpxJA5GMELiY",
        "outputId": "269ade18-4a44-47b6-ca4a-98dac4b3c051"
      },
      "execution_count": 15,
      "outputs": [
        {
          "output_type": "execute_result",
          "data": {
            "text/plain": [
              "4"
            ]
          },
          "metadata": {},
          "execution_count": 15
        }
      ]
    },
    {
      "cell_type": "markdown",
      "source": [
        "D. Comparators"
      ],
      "metadata": {
        "id": "AA6ecdQ1EWAi"
      }
    },
    {
      "cell_type": "code",
      "source": [
        "res_1,res_2,res_3 = 1,2.0,\"1\"\n",
        "true_val = 1.0\n",
        "\n",
        "## Equality\n",
        "res_1 == true_val"
      ],
      "metadata": {
        "colab": {
          "base_uri": "https://localhost:8080/"
        },
        "id": "Jy6PfVlREVSZ",
        "outputId": "545fa2bc-3460-4165-97f0-4765fbe4d37f"
      },
      "execution_count": 16,
      "outputs": [
        {
          "output_type": "execute_result",
          "data": {
            "text/plain": [
              "True"
            ]
          },
          "metadata": {},
          "execution_count": 16
        }
      ]
    },
    {
      "cell_type": "code",
      "source": [
        "## Non-equality\n",
        "res_2 != true_val"
      ],
      "metadata": {
        "colab": {
          "base_uri": "https://localhost:8080/"
        },
        "id": "Bk_ttI8PEwHN",
        "outputId": "885069e3-e075-49b6-d1f4-e4c2043b1e74"
      },
      "execution_count": 17,
      "outputs": [
        {
          "output_type": "execute_result",
          "data": {
            "text/plain": [
              "True"
            ]
          },
          "metadata": {},
          "execution_count": 17
        }
      ]
    },
    {
      "cell_type": "code",
      "source": [
        "## Inequality\n",
        "t1 = res_1 > res_2\n",
        "t2 = res_1 < res_2/2\n",
        "t3 = res_1 >= res_2/2\n",
        "t4 = res_1 <= res_2\n",
        "t1"
      ],
      "metadata": {
        "colab": {
          "base_uri": "https://localhost:8080/"
        },
        "id": "KU0BoSnsE4CL",
        "outputId": "84c99f60-3686-4d5e-a917-ad8f8e475314"
      },
      "execution_count": 18,
      "outputs": [
        {
          "output_type": "execute_result",
          "data": {
            "text/plain": [
              "False"
            ]
          },
          "metadata": {},
          "execution_count": 18
        }
      ]
    },
    {
      "cell_type": "markdown",
      "source": [
        "E. Logical"
      ],
      "metadata": {
        "id": "g1nAkqpcFKzb"
      }
    },
    {
      "cell_type": "code",
      "source": [
        "res_1 == true_val"
      ],
      "metadata": {
        "colab": {
          "base_uri": "https://localhost:8080/"
        },
        "id": "hLe3HV5WE31p",
        "outputId": "74303c3f-e575-4d10-9fff-c8526479227b"
      },
      "execution_count": 19,
      "outputs": [
        {
          "output_type": "execute_result",
          "data": {
            "text/plain": [
              "True"
            ]
          },
          "metadata": {},
          "execution_count": 19
        }
      ]
    },
    {
      "cell_type": "code",
      "source": [
        "res_1 is true_val"
      ],
      "metadata": {
        "colab": {
          "base_uri": "https://localhost:8080/"
        },
        "id": "hJIt9WsQFvCO",
        "outputId": "632abdb1-2975-4fc3-9b77-127f7a937911"
      },
      "execution_count": 20,
      "outputs": [
        {
          "output_type": "execute_result",
          "data": {
            "text/plain": [
              "False"
            ]
          },
          "metadata": {},
          "execution_count": 20
        }
      ]
    },
    {
      "cell_type": "code",
      "source": [
        "res_1 is not true_val"
      ],
      "metadata": {
        "colab": {
          "base_uri": "https://localhost:8080/"
        },
        "id": "t37VQ7CrFw7T",
        "outputId": "febc0f10-d7bb-46fb-c53f-d66923052ba9"
      },
      "execution_count": 21,
      "outputs": [
        {
          "output_type": "execute_result",
          "data": {
            "text/plain": [
              "True"
            ]
          },
          "metadata": {},
          "execution_count": 21
        }
      ]
    },
    {
      "cell_type": "code",
      "source": [
        "p,q = True,False\n",
        "conj = p and q\n",
        "conj"
      ],
      "metadata": {
        "colab": {
          "base_uri": "https://localhost:8080/"
        },
        "id": "My_TZIDbFyXY",
        "outputId": "3d984c7a-2fe7-4163-92dc-f3f6573cf5fd"
      },
      "execution_count": 22,
      "outputs": [
        {
          "output_type": "execute_result",
          "data": {
            "text/plain": [
              "False"
            ]
          },
          "metadata": {},
          "execution_count": 22
        }
      ]
    },
    {
      "cell_type": "code",
      "source": [
        "p,q = True,False\n",
        "disj = p or q\n",
        "disj"
      ],
      "metadata": {
        "colab": {
          "base_uri": "https://localhost:8080/"
        },
        "id": "iLXjVRZ3F57P",
        "outputId": "07a7da86-154e-4094-d3d9-6a87a28b3473"
      },
      "execution_count": 23,
      "outputs": [
        {
          "output_type": "execute_result",
          "data": {
            "text/plain": [
              "True"
            ]
          },
          "metadata": {},
          "execution_count": 23
        }
      ]
    },
    {
      "cell_type": "code",
      "source": [
        "p,q = True,False\n",
        "nand = not(p and q)\n",
        "nand"
      ],
      "metadata": {
        "colab": {
          "base_uri": "https://localhost:8080/"
        },
        "id": "9Qj4OL14GCyu",
        "outputId": "beaf97f8-7a25-497d-aaa4-385baf2384b9"
      },
      "execution_count": 24,
      "outputs": [
        {
          "output_type": "execute_result",
          "data": {
            "text/plain": [
              "True"
            ]
          },
          "metadata": {},
          "execution_count": 24
        }
      ]
    },
    {
      "cell_type": "code",
      "source": [
        "p,q = True,False\n",
        "xor = (not p and q) or (p and not q)\n",
        "xor"
      ],
      "metadata": {
        "colab": {
          "base_uri": "https://localhost:8080/"
        },
        "id": "JNBt2BtnGLSP",
        "outputId": "a279a420-9556-4e10-f887-2e6cac186f36"
      },
      "execution_count": 25,
      "outputs": [
        {
          "output_type": "execute_result",
          "data": {
            "text/plain": [
              "True"
            ]
          },
          "metadata": {},
          "execution_count": 25
        }
      ]
    },
    {
      "cell_type": "markdown",
      "source": [
        "F. Input and Output Operations"
      ],
      "metadata": {
        "id": "fMGewe-OGW8o"
      }
    },
    {
      "cell_type": "code",
      "source": [
        "print(\"Hello World\")"
      ],
      "metadata": {
        "colab": {
          "base_uri": "https://localhost:8080/"
        },
        "id": "doH2epgrGaiZ",
        "outputId": "b6900fd6-a646-4610-fe00-d0d495b806a3"
      },
      "execution_count": 26,
      "outputs": [
        {
          "output_type": "stream",
          "name": "stdout",
          "text": [
            "Hello World\n"
          ]
        }
      ]
    },
    {
      "cell_type": "code",
      "source": [
        "cnt = 1\n",
        "string = \"Hello World\"\n",
        "print(string,\", Current run count is:\", cnt)"
      ],
      "metadata": {
        "colab": {
          "base_uri": "https://localhost:8080/"
        },
        "id": "zEEMoYg7Gvw1",
        "outputId": "0b931751-984f-4789-8af5-44048858d24d"
      },
      "execution_count": 27,
      "outputs": [
        {
          "output_type": "stream",
          "name": "stdout",
          "text": [
            "Hello World , Current run count is: 1\n"
          ]
        }
      ]
    },
    {
      "cell_type": "code",
      "source": [
        "cnt += 1\n",
        "print(f\"{string}, Current count is: {cnt}\")"
      ],
      "metadata": {
        "colab": {
          "base_uri": "https://localhost:8080/"
        },
        "id": "jm2Cp38ZG_-5",
        "outputId": "d92b44f1-edaf-4173-8119-25ae97f7dfb6"
      },
      "execution_count": 28,
      "outputs": [
        {
          "output_type": "stream",
          "name": "stdout",
          "text": [
            "Hello World, Current count is: 2\n"
          ]
        }
      ]
    },
    {
      "cell_type": "code",
      "source": [
        "sem_grade = 82.243564657461234\n",
        "name = \"Steph\"\n",
        "print(\"Hello {}, your semestral grade is: {}\".format(name,sem_grade))"
      ],
      "metadata": {
        "id": "IGs9OiB7HKaH",
        "colab": {
          "base_uri": "https://localhost:8080/"
        },
        "outputId": "d10930be-0a43-4f5f-9c68-4432a7058f7b"
      },
      "execution_count": 29,
      "outputs": [
        {
          "output_type": "stream",
          "name": "stdout",
          "text": [
            "Hello Steph, your semestral grade is: 82.24356465746123\n"
          ]
        }
      ]
    },
    {
      "cell_type": "code",
      "source": [
        "w_pg,w_mg,w_fg = 0.3,0.3,0.4\n",
        "print(\"The weights of your semestral grades are:\\\n",
        "\\n\\t{:.2%} for Prelims\\\n",
        "\\n\\t{:.2%} for Midterms, and\\\n",
        "\\n\\t{:.2%} for Finals.\".format(w_pg,w_mg,w_fg))"
      ],
      "metadata": {
        "colab": {
          "base_uri": "https://localhost:8080/"
        },
        "id": "Jc988keqJoL8",
        "outputId": "3ee54d3e-dbd9-44cd-cb8e-23688d21fa97"
      },
      "execution_count": 30,
      "outputs": [
        {
          "output_type": "stream",
          "name": "stdout",
          "text": [
            "The weights of your semestral grades are:\n",
            "\t30.00% for Prelims\n",
            "\t30.00% for Midterms, and\n",
            "\t40.00% for Finals.\n"
          ]
        }
      ]
    },
    {
      "cell_type": "code",
      "source": [
        "x = input(\"enter a number: \")\n",
        "x"
      ],
      "metadata": {
        "colab": {
          "base_uri": "https://localhost:8080/",
          "height": 53
        },
        "id": "HP95oCxvKWYW",
        "outputId": "7b7a0ba6-431c-4f6b-d3de-879a196a2dde"
      },
      "execution_count": 31,
      "outputs": [
        {
          "name": "stdout",
          "output_type": "stream",
          "text": [
            "enter a number: 7\n"
          ]
        },
        {
          "output_type": "execute_result",
          "data": {
            "text/plain": [
              "'7'"
            ],
            "application/vnd.google.colaboratory.intrinsic+json": {
              "type": "string"
            }
          },
          "metadata": {},
          "execution_count": 31
        }
      ]
    },
    {
      "cell_type": "code",
      "source": [
        "name = input(\"Kimi no nawa: \")\n",
        "pg = input(\"Enter prelim grade: \")\n",
        "mg = input (\"Enter midterm grade: \")\n",
        "fg = input(\"Enter final grade: \")\n",
        "sem_grade = None\n",
        "print(\"Hello {}, your semestral grade is: {}\".format(name,sem_grade))"
      ],
      "metadata": {
        "colab": {
          "base_uri": "https://localhost:8080/"
        },
        "id": "ozOjtU6iKcm7",
        "outputId": "52ef2083-b7a3-4e72-d6a1-42988ca5b765"
      },
      "execution_count": 33,
      "outputs": [
        {
          "output_type": "stream",
          "name": "stdout",
          "text": [
            "Kimi no nawa: Steph\n",
            "Enter prelim grade: 87\n",
            "Enter midterm grade: 90\n",
            "Enter final grade: 92\n",
            "Hello Steph, your semestral grade is: None\n"
          ]
        }
      ]
    },
    {
      "cell_type": "markdown",
      "source": [
        "G. Looping Statements"
      ],
      "metadata": {
        "id": "FkcpxMg3LOMB"
      }
    },
    {
      "cell_type": "code",
      "source": [
        "## while loops\n",
        "i,j = 0,10\n",
        "while(i <= j):\n",
        "  print(f\"{i}\\t|\\t{j}\")\n",
        "  i += 1"
      ],
      "metadata": {
        "colab": {
          "base_uri": "https://localhost:8080/"
        },
        "id": "SNFntgW8LMFA",
        "outputId": "9d375047-b2c8-4a29-ba5c-049b6c1480ae"
      },
      "execution_count": 34,
      "outputs": [
        {
          "output_type": "stream",
          "name": "stdout",
          "text": [
            "0\t|\t10\n",
            "1\t|\t10\n",
            "2\t|\t10\n",
            "3\t|\t10\n",
            "4\t|\t10\n",
            "5\t|\t10\n",
            "6\t|\t10\n",
            "7\t|\t10\n",
            "8\t|\t10\n",
            "9\t|\t10\n",
            "10\t|\t10\n"
          ]
        }
      ]
    },
    {
      "cell_type": "code",
      "source": [
        "# for(int i = 0; i < 10; i++){\n",
        "# printf(i)\n",
        "# }\n",
        "\n",
        "i = 0\n",
        "for i in range(10):\n",
        "  print(i)"
      ],
      "metadata": {
        "colab": {
          "base_uri": "https://localhost:8080/"
        },
        "id": "mrVB3h9ULkz0",
        "outputId": "a858a5d1-796a-4ccf-8e3e-1bf5d690db00"
      },
      "execution_count": 35,
      "outputs": [
        {
          "output_type": "stream",
          "name": "stdout",
          "text": [
            "0\n",
            "1\n",
            "2\n",
            "3\n",
            "4\n",
            "5\n",
            "6\n",
            "7\n",
            "8\n",
            "9\n"
          ]
        }
      ]
    },
    {
      "cell_type": "markdown",
      "source": [
        "H. Flow Control"
      ],
      "metadata": {
        "id": "RF3plZI5MWeK"
      }
    },
    {
      "cell_type": "code",
      "source": [
        "### Condition Statements\n",
        "numeral1,numeral2 = 12,12\n",
        "if(numeral1 == numeral2):\n",
        "  print(\"Yey\")\n",
        "elif(numeral1 > numeral2):\n",
        "  print(\"Hoho\")\n",
        "else:\n",
        "  print(\"Aww\")\n",
        "print(\"Hip hip\")"
      ],
      "metadata": {
        "colab": {
          "base_uri": "https://localhost:8080/"
        },
        "id": "O2GYgTbPMV3-",
        "outputId": "8179eb01-4a24-4b3f-f5b4-fcb775320df8"
      },
      "execution_count": 36,
      "outputs": [
        {
          "output_type": "stream",
          "name": "stdout",
          "text": [
            "Yey\n",
            "Hip hip\n"
          ]
        }
      ]
    },
    {
      "cell_type": "markdown",
      "source": [
        "I. Functions"
      ],
      "metadata": {
        "id": "5R-rtAGbMw9X"
      }
    },
    {
      "cell_type": "code",
      "source": [
        "# void DeleteUser(intuserid){\n",
        "#   delete(userid);\n",
        "# }\n",
        "\n",
        "def delete_user(userid):\n",
        "  print(\"Successfully deleted user: {}\".format(userid))\n",
        "\n",
        "def delete_all_users():\n",
        "  print(\"Successfully deleted all users\")"
      ],
      "metadata": {
        "id": "5V-8Bvj6MwQq"
      },
      "execution_count": 37,
      "outputs": []
    }
  ]
}