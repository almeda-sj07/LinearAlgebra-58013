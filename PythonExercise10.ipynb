{
  "nbformat": 4,
  "nbformat_minor": 0,
  "metadata": {
    "colab": {
      "provenance": [],
      "authorship_tag": "ABX9TyMFNpxNA1qlm/gB4arPZAJj",
      "include_colab_link": true
    },
    "kernelspec": {
      "name": "python3",
      "display_name": "Python 3"
    },
    "language_info": {
      "name": "python"
    }
  },
  "cells": [
    {
      "cell_type": "markdown",
      "metadata": {
        "id": "view-in-github",
        "colab_type": "text"
      },
      "source": [
        "<a href=\"https://colab.research.google.com/github/almeda-sj07/LinearAlgebra-58013/blob/main/PythonExercise10.ipynb\" target=\"_parent\"><img src=\"https://colab.research.google.com/assets/colab-badge.svg\" alt=\"Open In Colab\"/></a>"
      ]
    },
    {
      "cell_type": "code",
      "execution_count": 35,
      "metadata": {
        "colab": {
          "base_uri": "https://localhost:8080/"
        },
        "id": "DTcXExgo50Sx",
        "outputId": "f29923d8-4bca-451d-c53a-1615641f2033"
      },
      "outputs": [
        {
          "output_type": "stream",
          "name": "stdout",
          "text": [
            "[[ 1.  1.  1.]\n",
            " [ 3. -2. -1.]\n",
            " [-1.  4.  2.]]\n",
            "(3, 3)\n",
            "[[ 1.]\n",
            " [ 4.]\n",
            " [-3.]]\n",
            "(3, 1)\n"
          ]
        }
      ],
      "source": [
        "import numpy as np\n",
        "\n",
        "X = np.array([\n",
        "    [1,1,1],\n",
        "    [3,-2,-1],\n",
        "    [-1,4,2]\n",
        "], dtype=float)\n",
        "Y = np.array([\n",
        "    [1],\n",
        "    [4],\n",
        "    [-3]\n",
        "],dtype=float)\n",
        "print(X)\n",
        "print(X.shape)\n",
        "print(Y)\n",
        "print(Y.shape)"
      ]
    },
    {
      "cell_type": "markdown",
      "source": [
        "Coding Activity 10"
      ],
      "metadata": {
        "id": "0GfcSIoz6FMt"
      }
    },
    {
      "cell_type": "code",
      "source": [
        "B = np.array([\n",
        "    [30,10,120],\n",
        "    [40,20,200],\n",
        "    [50,40,360]\n",
        "])\n",
        "\n",
        "C = np.array([\n",
        "    [12500],\n",
        "    [18000],\n",
        "    [25700]\n",
        "])\n",
        "\n",
        "#Cramer's Rule\n",
        "B1 = np.array([\n",
        "    [12500,10,120],\n",
        "    [18000,20,200],\n",
        "    [25700,40,360]\n",
        "])\n",
        "\n",
        "B2 = np.array([\n",
        "    [30,12500,120],\n",
        "    [40,18000,200],\n",
        "    [50,25700,360]\n",
        "])\n",
        "\n",
        "B3 = np.array([\n",
        "    [30,10,12500],\n",
        "    [40,20,18000],\n",
        "    [50,40,25700]\n",
        "])\n",
        "\n",
        "dB = round(np.linalg.det(B))\n",
        "dB1 = round(np.linalg.det(B1))\n",
        "dB2 = round(np.linalg.det(B2))\n",
        "dB3 = round(np.linalg.det(B3))\n",
        "\n",
        "F = float(dB1/dB)\n",
        "Y = float(dB2/dB)\n",
        "E = float(dB3/dB)\n",
        "\n",
        "print(\"Determinants:\\nB:\",dB,\"\\nB1:\",dB1,\"\\nB2:\",dB2,\"\\nB3:\",dB3)\n",
        "print(\"\\nPrice of flour per sack:\",F,\"pesos.\")\n",
        "print(\"Price of yeast per pack:\",Y,\"pesos.\")\n",
        "print(\"Price of one piece of egg:\",E,\"pesos.\")"
      ],
      "metadata": {
        "colab": {
          "base_uri": "https://localhost:8080/"
        },
        "id": "-cvhcooS6EnW",
        "outputId": "3b7915f2-dde6-488d-e228-43d05b80511c"
      },
      "execution_count": 45,
      "outputs": [
        {
          "output_type": "stream",
          "name": "stdout",
          "text": [
            "Determinants:\n",
            "B: 4000 \n",
            "B1: 1320000 \n",
            "B2: 560000 \n",
            "B3: 40000\n",
            "\n",
            "Price of flour per sack: 330.0 pesos.\n",
            "Price of yeast per pack: 140.0 pesos.\n",
            "Price of one piece of egg: 10.0 pesos.\n"
          ]
        }
      ]
    }
  ]
}