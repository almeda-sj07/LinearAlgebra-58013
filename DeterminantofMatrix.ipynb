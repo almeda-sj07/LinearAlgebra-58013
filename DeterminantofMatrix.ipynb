{
  "nbformat": 4,
  "nbformat_minor": 0,
  "metadata": {
    "colab": {
      "provenance": [],
      "authorship_tag": "ABX9TyPeS3PV5U11+kM/3AI8NdUj",
      "include_colab_link": true
    },
    "kernelspec": {
      "name": "python3",
      "display_name": "Python 3"
    },
    "language_info": {
      "name": "python"
    }
  },
  "cells": [
    {
      "cell_type": "markdown",
      "metadata": {
        "id": "view-in-github",
        "colab_type": "text"
      },
      "source": [
        "<a href=\"https://colab.research.google.com/github/almeda-sj07/LinearAlgebra-58013/blob/main/DeterminantofMatrix.ipynb\" target=\"_parent\"><img src=\"https://colab.research.google.com/assets/colab-badge.svg\" alt=\"Open In Colab\"/></a>"
      ]
    },
    {
      "cell_type": "code",
      "source": [
        "import numpy as np\n",
        "\n",
        "A = np.array([[4,7,8],[-9,0,0],[2,3,4]])\n",
        "print(\"Array A:\\n\",A)\n",
        "\n",
        "#determinant function in linear algebra library\n",
        "print(\"Determinant =\",round(np.linalg.det(A)))"
      ],
      "metadata": {
        "colab": {
          "base_uri": "https://localhost:8080/"
        },
        "id": "Gmwuzcay0och",
        "outputId": "2e306089-157e-495b-d06e-2c6ea3686136"
      },
      "execution_count": 16,
      "outputs": [
        {
          "output_type": "stream",
          "name": "stdout",
          "text": [
            "Array A:\n",
            " [[ 4  7  8]\n",
            " [-9  0  0]\n",
            " [ 2  3  4]]\n",
            "Determinant = 36\n"
          ]
        }
      ]
    },
    {
      "cell_type": "code",
      "source": [
        "B = np.array([[2,3,-5],[7,1,-2],[-3,4,1]])\n",
        "print(\"Array B:\\n\",B)\n",
        "print(\"Determinant =\",round(np.linalg.det(B)))"
      ],
      "metadata": {
        "colab": {
          "base_uri": "https://localhost:8080/"
        },
        "id": "9kKFmB9d6znH",
        "outputId": "bf67170e-bc3a-43ce-8e3c-32cef7e3a941"
      },
      "execution_count": 18,
      "outputs": [
        {
          "output_type": "stream",
          "name": "stdout",
          "text": [
            "Array B:\n",
            " [[ 2  3 -5]\n",
            " [ 7  1 -2]\n",
            " [-3  4  1]]\n",
            "Determinant = -140\n"
          ]
        }
      ]
    },
    {
      "cell_type": "markdown",
      "source": [
        "Exercise:"
      ],
      "metadata": {
        "id": "duntAjN_7qy-"
      }
    },
    {
      "cell_type": "code",
      "source": [
        "A = np.array([[1,2,-1],[4,6,-2],[-1,3,3]])\n",
        "print(\"Array A:\\n\",A)\n",
        "print(\"Determinant =\",round(np.linalg.det(A)))"
      ],
      "metadata": {
        "colab": {
          "base_uri": "https://localhost:8080/"
        },
        "id": "R3yvFVUK7eA4",
        "outputId": "6d6a222a-a707-4cc2-cbc9-8b8f6efc5179"
      },
      "execution_count": 19,
      "outputs": [
        {
          "output_type": "stream",
          "name": "stdout",
          "text": [
            "Array A:\n",
            " [[ 1  2 -1]\n",
            " [ 4  6 -2]\n",
            " [-1  3  3]]\n",
            "Determinant = -14\n"
          ]
        }
      ]
    },
    {
      "cell_type": "code",
      "source": [
        "#Basket method\n",
        "# A = [\n",
        "#    1 2 -1 | 1 2\n",
        "#    4 6 -2 | 4 6\n",
        "#    -1 3 3 | -1 3\n",
        "#]\n",
        "\n",
        "\n",
        "detA = ((1*6*3)+(2*-2*-1)+(-1*4*3)) - ((-1*6*-1)+(3*-2*1)+(3*4*2))\n",
        "print(\"Determinant =\",detA)"
      ],
      "metadata": {
        "colab": {
          "base_uri": "https://localhost:8080/"
        },
        "id": "tdaZKQpD76PV",
        "outputId": "3e7c1e7f-85d2-4ddc-bd64-2bc4d415f3c5"
      },
      "execution_count": 23,
      "outputs": [
        {
          "output_type": "stream",
          "name": "stdout",
          "text": [
            "Determinant = -14\n"
          ]
        }
      ]
    }
  ]
}